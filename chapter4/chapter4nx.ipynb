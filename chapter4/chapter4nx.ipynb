{
 "cells": [
  {
   "cell_type": "code",
   "execution_count": 1,
   "metadata": {},
   "outputs": [],
   "source": [
    "with open('./neko.txt', mode='r', encoding='utf-8') as f:\n",
    "    wagahai = f.read()\n",
    "\n",
    "wagahai_list = wagahai.split('\\n')\n"
   ]
  },
  {
   "cell_type": "markdown",
   "metadata": {},
   "source": [
    "# 30. 形態素解析結果の読み込み\n",
    "形態素解析結果（neko.txt.mecab）を読み込むプログラムを実装せよ．ただし，各形態素は表層形（surface），基本形（base），品詞（pos），品詞細分類1（pos1）をキーとするマッピング型に格納し，1文を形態素（マッピング型）のリストとして表現せよ．第4章の残りの問題では，ここで作ったプログラムを活用せよ．"
   ]
  },
  {
   "cell_type": "code",
   "execution_count": 2,
   "metadata": {},
   "outputs": [],
   "source": [
    "from janome.tokenizer import Tokenizer\n",
    "t = Tokenizer()\n",
    "\n",
    "def add_token_to_dict(v, obj, token):\n",
    "    if v in obj:\n",
    "        obj[v] += [token]\n",
    "    else:\n",
    "        obj[v] = [token]\n",
    "\n",
    "surface_dict = {}\n",
    "surface_sentence_dict = {}\n",
    "# base_dict = {}\n",
    "# pos_dict = {}\n",
    "# pos1_dict = {}\n",
    "all_word_list = []\n",
    "for sentence in wagahai_list:\n",
    "    sentence = sentence.strip()\n",
    "    for token in t.tokenize(sentence.strip()):\n",
    "        pos = token.part_of_speech.split(',')\n",
    "        # if pos[0] not in ['動詞', '名詞', '形容詞', '副詞']:\n",
    "        if pos[0] not in ['名詞']:\n",
    "            continue\n",
    "\n",
    "        add_token_to_dict(token.surface, surface_dict, token)\n",
    "        # add_token_to_dict(token.base_form, base_dict, token)\n",
    "        # add_token_to_dict(pos[0], pos_dict, token)\n",
    "        # add_token_to_dict(pos[1], pos1_dict, token)\n",
    "\n",
    "        if token.surface in surface_sentence_dict:\n",
    "            surface_sentence_dict[token.surface] += [sentence]\n",
    "        else:\n",
    "            surface_sentence_dict[token.surface] = [sentence]\n",
    "\n",
    "        all_word_list += [token.surface]\n",
    "\n",
    "# pos_dict.keys()\n"
   ]
  },
  {
   "cell_type": "code",
   "execution_count": 12,
   "metadata": {},
   "outputs": [
    {
     "name": "stdout",
     "output_type": "stream",
     "text": [
      "[('の', 1611), ('事', 1207), ('もの', 980)]\n",
      "{'word': 'の', 'cnt': 1611, 'related_word_list': [('事', 343), ('主人', 246), ('もの', 245)]}\n",
      "{'word': '事', 'cnt': 1207, 'related_word_list': [('の', 343), ('もの', 196), ('君', 188)]}\n",
      "{'word': 'もの', 'cnt': 980, 'related_word_list': [('の', 245), ('事', 196), ('よう', 163)]}\n"
     ]
    }
   ],
   "source": [
    "from janome.tokenizer import Tokenizer\n",
    "from collections import Counter\n",
    "\n",
    "def topN_co_occurrences_words(list, n):\n",
    "    counter = Counter(list)\n",
    "    return counter.most_common()[0:n]\n",
    "\n",
    "t = Tokenizer()\n",
    "\n",
    "top3_word_list = topN_co_occurrences_words(all_word_list, 3)\n",
    "cooccurrece_word_list = []\n",
    "\n",
    "print(top3_word_list)\n",
    "\n",
    "for (word, cnt) in top3_word_list:\n",
    "    sentences = surface_sentence_dict[word]\n",
    "    related_word_list = []\n",
    "    for sentence in sentences:\n",
    "        for token in t.tokenize(sentence):\n",
    "            # 自分と同じものは除外\n",
    "            if token.surface == word:\n",
    "                continue\n",
    "            pos = token.part_of_speech.split(',')\n",
    "            if pos[0] not in ['名詞']:\n",
    "                continue\n",
    "            related_word_list += [token.surface]\n",
    "\n",
    "    print({\n",
    "        'word': word,\n",
    "        'cnt': cnt,\n",
    "        'related_word_list': topN_co_occurrences_words(related_word_list, 3),\n",
    "    })\n",
    "\n",
    "# cooccurrece_word_list"
   ]
  },
  {
   "cell_type": "code",
   "execution_count": null,
   "metadata": {},
   "outputs": [
    {
     "data": {
      "image/png": "[encoded data removed]",
      "text/plain": [
       "<Figure size 432x288 with 1 Axes>"
      ]
     },
     "metadata": {},
     "output_type": "display_data"
    }
   ],
   "source": [
    "# import matplotlib.pyplot as plt\n",
    "# from matplotlib import font_manager\n",
    "# import japanize_matplotlib\n",
    "# import networkx as nx\n",
    "\n",
    "\n",
    "# G = nx.Graph()\n",
    "# G.add_node(u'猫')\n",
    "# for v in most_common[0:10]:\n",
    "#     w = v[0]\n",
    "#     if not G.has_node(w):\n",
    "#         G.add_node(w)\n",
    "\n",
    "#     G.add_edge(u'猫', w)\n",
    "\n",
    "# pos = nx.spring_layout(G)\n",
    "# nx.draw_networkx_nodes(G, pos, node_size=100, node_color='w')\n",
    "# nx.draw_networkx_edges(G, pos, width=1)\n",
    "# nx.draw_networkx_labels(G, pos, font_size=16, font_family='Noto Sans JP')\n",
    "\n",
    "# plt.show()"
   ]
  }
 ],
 "metadata": {
  "interpreter": {
   "hash": "91e0c8f72e622d3f2934463baa31eea948a70c86158eb83afd714c170bad6eed"
  },
  "kernelspec": {
   "display_name": "Python 3 (ipykernel)",
   "language": "python",
   "name": "python3"
  },
  "language_info": {
   "codemirror_mode": {
    "name": "ipython",
    "version": 3
   },
   "file_extension": ".py",
   "mimetype": "text/x-python",
   "name": "python",
   "nbconvert_exporter": "python",
   "pygments_lexer": "ipython3",
   "version": "3.10.0"
  }
 },
 "nbformat": 4,
 "nbformat_minor": 4
}
